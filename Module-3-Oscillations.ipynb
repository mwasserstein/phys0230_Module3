{
 "cells": [
  {
   "cell_type": "code",
   "execution_count": 3,
   "metadata": {
    "id": "dvFsKwrGM3J1"
   },
   "outputs": [],
   "source": [
    "# Notebook by C. Herdman & P. Hess\n",
    "# January 2021\n",
    "\n",
    "import numpy as np\n",
    "import matplotlib.pyplot as plt"
   ]
  },
  {
   "cell_type": "markdown",
   "metadata": {
    "id": "lBr6lCfAM3J8"
   },
   "source": [
    "# Simple Harmonic Oscillator\n",
    "\n",
    "To start our discussion of oscillations, we'll begin with what you could fairly describe as **the most important problem in all of physics**: *the simple harmonic oscillator* (SHO). We'll focus on the *mass-on-a-spring* model of a SHO, but it shows up all over the place in physics in many forms. Physics classes you'll likely encounter the SHO include: 109, 110, 111, 202, 212, 221, 241, 301, 302, 330, 340, 350, 401...oh and 230!\n",
    "\n",
    "## References for simple harmonic motion:\n",
    "\n",
    "*   Wolfson, *Essential Univerisity Physics*, Chap. 13\n",
    "*   [OpenStax *University Physics*, Chap. 15](https://openstax.org/books/university-physics-volume-1/pages/15-1-simple-harmonic-motion)\n",
    "* Taylor, *Classical Mechanics* Chap. 5 (more advanced reference)\n",
    "\n",
    "## *Mass-on-a-spring* as a simple harmonic oscillator \n",
    "\n",
    "Consider a mass $m$ on a horizontal frictionless surface, attactched to a masselss spring with spring constant $k$. We'll define $x=0$ to be the *equilibrium* position of the mass, and we'll only consider motion 1D along the x-axis; $x$ therefore represents the displacment from the equilibirum position. The spring provides a **restoring force** that tends to pull the mass back toward the origin:\n",
    "\n",
    "$$\\textbf{Restoring force:} \\qquad \\vec{F}_{\\text{res}} = - k x \\hat{i} $$\n",
    "\n",
    "Since the vertical forces cancel, the net force is equal to $ \\vec{F}_{\\text{res}}$, and we can use Newton's 2nd law to write:\n",
    "\n",
    "$$\\textbf{Newton's 2nd Law:} \\qquad  \\vec{F}_{\\textrm{Net}} = - k x \\hat{i} = m \\vec{a}$$\n",
    "\n",
    "Since we're only considering motion along the x-axis, we can solve for the x-component of the accleration:\n",
    "\n",
    "$$ a_x = -\\frac{k}{m}x $$\n",
    "\n",
    "We now can write Newton's 2nd Law as a *differential equation*, by writing acceleration as the 2nd derivative of position: $a_x = d^2x/dt^2$:\n",
    "\n",
    "$$ \\frac{d^2 x}{dt^2} = - \\omega_0^2 x\\left(t\\right), \\qquad \\omega_0 \\equiv \\sqrt{k/m}$$\n",
    "\n",
    "where we've defined the constant *angular frequency* $\\omega_0$ as shown. In the form shown, Newton's 2nd Law becomes an equation for the 2nd derivative of $x$ (the acceleration) in terms of $x$. Often we equilvalently write this *extremely important* differential equation as:\n",
    "\n",
    "$$\\textbf{Differential Equation:} \\qquad \\frac{d^2 x}{dt^2} + \\omega_0^2 x\\left(t\\right) = 0 $$\n",
    "\n",
    "We now just need to solve this differential equation to find $x(t)$. The best way (read *physicist's way*) to solve a differential equaiton is to *guess* the form of the solution, and check to see if you're right by taking a few derivatives. This differential equation has a solution of the form:\n",
    "\n",
    "$$\\textbf{General solution:} \\qquad x\\left(t\\right) = A \\cos \\left( \\omega_0 t\\right) + B \\sin \\left( \\omega_0 t\\right) $$\n",
    "\n",
    "where $A$ and $B$ are any two constants. Go ahead and take two time derivatives and you'll find that the differential equaiton is solved by any choices of $A$ & $B$. To determine what $A$ and $B$ are, we must know the *intial conditions*: $x(t=0)$ and $v_x (t=0)$. Unless otherwise noted, in this assignment we'll assume the mass is released from rest from position $x_0$:\n",
    "\n",
    "$$ x\\left(t=0\\right) = x_0, \\qquad v_x \\left(t=0\\right) \\equiv \\frac{dx}{dt}\\vert_{t=0} = 0 $$\n",
    "\n",
    "For these intial conditions, the general solution simplifies to the particular solution:\n",
    "\n",
    "$$\\textbf{Position when released from rest:} \\qquad  x\\left(t\\right) = x_0 \\cos \\left( \\omega_0 t \\right) $$\n",
    "\n",
    "By taking a time derivative we find the velocity (when the mass is released from rest):\n",
    "\n",
    "$$\\textbf{Velocity when released from rest:} \\qquad  v_x\\left(t\\right) \\equiv \\frac{dx}{dt} = -x_0 \\omega_0 \\sin \\left( \\omega_0 t \\right) $$"
   ]
  },
  {
   "cell_type": "code",
   "execution_count": 4,
   "metadata": {
    "id": "Q15N676yM3J9"
   },
   "outputs": [],
   "source": [
    "# Analytical solution to the SHO\n",
    "def SHO_analytic( omega_0, x_0, t):\n",
    "    '''\n",
    "    Returns the analytical solution for the position and velocity \n",
    "    of a simple harmonic released from rest.\n",
    "\n",
    "    Returns: (x, v_x)\n",
    "\n",
    "    Parameters:\n",
    "    omega_0 - the natural frequency sqrt(k/m) [1/s] - float\n",
    "    x0 - initial position [m] - float\n",
    "    t - time [s] - float or NumPy array\n",
    "    '''\n",
    "    # position as a funciton of time\n",
    "    x = x_0 * np.cos( omega_0 * t )\n",
    "\n",
    "    # velocity as a funciton of time                       \n",
    "    v_x = (-1.0) * omega_0 * x_0 * np.sin( omega_0 * t )  \n",
    "    \n",
    "    return (x, v_x)"
   ]
  },
  {
   "cell_type": "markdown",
   "metadata": {
    "id": "hxsMy2npM3J9"
   },
   "source": [
    "### **Problem 1**\n",
    "Compute the analytical solutions for $x(t)$ and $v_x(t)$ for $k = 4.0~\\textrm{N/m}$, $x_0 = 10.0~\\textrm{m}$ and three different values of the mass: $m \\in\\{2.0~\\textrm{kg}, 4.0~\\textrm{kg}, 8.0~\\textrm{kg} \\}$.\n",
    "* Make two plots, one each for $x(t)$ and $v_x(t)$ and put curves for all three masses on each. \n",
    "* How do the period and amplitude of the oscillations of postion and velocity change with mass?"
   ]
  },
  {
   "cell_type": "raw",
   "metadata": {
    "id": "8HCCPQzr246j"
   },
   "source": [
    "## Energy in a simple harmonic oscillator\n",
    "\n",
    "The restoring force leades to a potential energy (or vice versa) of the form:\n",
    "\n",
    "$$\\textbf{Potential Energy}: \\quad V = \\frac{1}{2} k x^2 $$\n",
    "\n",
    "The mass also has a kinetic energy which is given by the usual expression for Newotnian mechanics:\n",
    "\n",
    "$$\\textbf{Kinetic Energy}: \\quad K = \\frac{1}{2} m v_x^2 $$\n",
    "\n",
    "The total energy energy of the mass-spring system is then:\n",
    "\n",
    "$$\\textbf{Energy}: \\quad E = K + V = \\frac{1}{2} k x^2 + \\frac{1}{2} m v_x^2 $$\n",
    "\n",
    "Notice how both the kinetic energy terms are *quadratic*--this is what makes this system *harmonic*. For example, if the potential energy had an additional $x^3$ term, we would call this an *anharmonic oscillator* and we wouldn't know the exact analytical solution (see below for more)."
   ]
  },
  {
   "cell_type": "markdown",
   "metadata": {
    "id": "k9wUYSV3M3J_"
   },
   "source": [
    "### **Problem 2**\n",
    "Plot the kinetic energy, potential energy, and total energy of the analytical solution. Pick any $m$, $k$ and $x_0$ you'd like! Besure to show several oscillations in your plot.\n",
    "\n",
    "* Describe what happens to the kinetic, potential and total energies as a function of time."
   ]
  },
  {
   "cell_type": "markdown",
   "metadata": {
    "id": "AWZMUAPKM3KA"
   },
   "source": [
    "## Phase space orbit of an oscillator\n",
    "\n",
    "Because of the peridic motion of an oscillator, it can be useful to plot the trajectory of an oscillator in a compact but abstract representation known as its *phase space orbit*. At any instant in time we can describe the trajectory of the mass by its position and velocity. Instead of using the velocity, we'll use the *momentum* to represent the mass's instantaneous motion: \n",
    "\n",
    "$$\\textbf{momentum:}\\quad p_x \\equiv m v_x $$\n",
    "\n",
    "So at all points in time the trajectory of the mass is described by the pair of numbers:\n",
    "\n",
    "$$\\textbf{phase space represntation}: \\bigl( x(t), p_x(t) \\bigr)$$\n",
    "\n",
    "We can then plot the *phase space orbit* of the particle on a 2D parametric plot, by using $x(t)$ for the x-axis and $p_x(t)$ on the y-axis. \n",
    "\n",
    "For example:"
   ]
  },
  {
   "cell_type": "code",
   "execution_count": 5,
   "metadata": {
    "colab": {
     "base_uri": "https://localhost:8080/",
     "height": 299
    },
    "id": "u9orYE16M3KA",
    "outputId": "4b59b7fd-d410-44c9-df39-b3187894eac7"
   },
   "outputs": [
    {
     "data": {
      "image/png": "[encoded data removed]",
      "text/plain": [
       "<Figure size 432x288 with 1 Axes>"
      ]
     },
     "metadata": {
      "needs_background": "light"
     },
     "output_type": "display_data"
    }
   ],
   "source": [
    "# Plot the phase space orbit of a SHO\n",
    "\n",
    "# Parameters: (We'll use capital letters for constants)\n",
    "OMEGA_0 = 4.0     # angular frequncy [1/s]\n",
    "M = 8.0           # mass [kg]\n",
    "X_0 = 10.0        # initial position [m]\n",
    "T_MAX = 2.0       # maximum time [s]\n",
    "\n",
    "# Create array of times\n",
    "t_analytic = np.linspace(0.0, T_MAX, 100 )\n",
    "\n",
    "# Compute trajectories\n",
    "(x_analytic, vx_analytic) = SHO_analytic( OMEGA_0, X_0, t_analytic)\n",
    "\n",
    "# Compute the momenum\n",
    "px_analytic = M * vx_analytic\n",
    "\n",
    "# Make Phase space plot\n",
    "plt.plot( x_analytic, px_analytic )\n",
    "plt.xlabel( r'$x(t)$ [s]' )\n",
    "plt.ylabel( r'$p_x(t)$ [kg m/s]' )\n",
    "plt.title( 'Phase space orbit of a SHO');"
   ]
  },
  {
   "cell_type": "markdown",
   "metadata": {
    "id": "tYg9ddAtM3KB"
   },
   "source": [
    "### **Problem 3**\n",
    "* Plot the phase space oribits for $m= 8.0~\\text{kg}$, $k=4.0~\\text{N/m}$ and three different intial positions $x_0 \\in \\{2.0~\\text{m}, 4.0~\\text{m}, 8.0~\\text{m}\\}$ all on one plot.\n",
    "  * Describe how the phase space plots vary with $x_0$.\n",
    "\n",
    "* Plot the phase space oribits for $m= 8.0~\\text{kg}$, $k=2.0~\\text{N/m}$ $x_0=8.0~\\text{m}$ and three different intial spring constants: $k \\in \\{2.0~\\text{N/m}, 4.0~\\text{N/m}, 8.0~\\text{N/m}\\}$ all on one plot\n",
    "  * Describe how the phase space plots vary with $k$.\n",
    "\n",
    "* How do you think your the shape of your phase space orbits would change if you gave the mass an intial kick, rather than starting it from rest?"
   ]
  },
  {
   "cell_type": "markdown",
   "metadata": {
    "id": "aH6kWxhSM3KC"
   },
   "source": [
    "## Solving the SHO Numerically\n",
    "\n",
    "Now we'll try to find the trajectory of the SHO numerically, first using the Euler algorithm."
   ]
  },
  {
   "cell_type": "code",
   "execution_count": 6,
   "metadata": {
    "id": "p1ZL9oGzM3KC"
   },
   "outputs": [],
   "source": [
    "# Euler's algorithm applied to the simple harmonic oscillator\n",
    "def SHO_Euler( omega_0, x_0, t_max, dt):\n",
    "    '''\n",
    "    Returns the numerical solution for the position and velocity \n",
    "    of a simple harmonic released from rest using the Euler algorithm.\n",
    "    \n",
    "    Returns: (t, x, v)\n",
    "\n",
    "    Parameters:\n",
    "    omega_0 - the natural frequency sqrt(k/m) (1/s) - float\n",
    "    x0 - initial position (m) - float\n",
    "    t_max - the maximum time (s) - float\n",
    "    dt - the time step for Euler (s) - float\n",
    "    '''\n",
    "    \n",
    "    # Compute the time steps needed\n",
    "    t_steps = int(np.ceil(t_max/dt))\n",
    "\n",
    "    # Create the position & velocity arrays\n",
    "    t_arr = np.zeros(t_steps)\n",
    "    x_arr = np.zeros(t_steps)\n",
    "    vx_arr = np.zeros(t_steps)\n",
    "\n",
    "    # Initialize the arrays\n",
    "    t_arr[0] = 0.0    # We'll start at t=0\n",
    "    x_arr[0] = x_0    # Initial position\n",
    "    vx_arr[0] = 0.0   # Assume the mass is released from rest\n",
    "    \n",
    "    # Main loop for the Euler algorithm\n",
    "    for i in range(t_steps - 1):\n",
    "        t_arr[i + 1] = t_arr[i ] + dt\n",
    "        x_arr[i + 1] = x_arr[i] + vx_arr[i] * dt  # update the position\n",
    "        a = (-1.0) * (omega_0 ** 2.0) * x_arr[i]  # compute the accleration\n",
    "        vx_arr[i + 1] = vx_arr[i] + a * dt        # update the velocity\n",
    "    \n",
    "    return (t_arr, x_arr, vx_arr)"
   ]
  },
  {
   "cell_type": "code",
   "execution_count": 9,
   "metadata": {
    "id": "7aPrw4oZM3KC"
   },
   "outputs": [],
   "source": [
    "# Compute a SHO trajectory using Euler's algorithm\n",
    "\n",
    "# Parameters\n",
    "OMEGA_0 = 4.0     # angular frequncy [1/s]\n",
    "X_0 = 1.0         # initial position [m]\n",
    "T_max = 5.0       # maximum time [s]\n",
    "DT = 0.1         # Euler time step [s]\n",
    "\n",
    "# Compute the Euler soltution\n",
    "(t_euler, x_euler, vx_euler) = SHO_Euler( OMEGA_0, X_0, T_max, DT)\n",
    "\n",
    "# Compute the analyticial solution\n",
    "t_analytic = np.copy(t_euler)  # We'll use the same times as Euler\n",
    "(x_analytic, vx_analytic) = SHO_analytic( OMEGA_0, X_0, t_analytic)"
   ]
  },
  {
   "cell_type": "code",
   "execution_count": 10,
   "metadata": {
    "colab": {
     "base_uri": "https://localhost:8080/",
     "height": 299
    },
    "id": "iIiLDOT5M3KD",
    "outputId": "f2e3ea33-de8f-4a41-ef39-a9e2190fd2ce"
   },
   "outputs": [
    {
     "data": {
      "image/png": "[encoded data removed]",
      "text/plain": [
       "<Figure size 432x288 with 1 Axes>"
      ]
     },
     "metadata": {
      "needs_background": "light"
     },
     "output_type": "display_data"
    }
   ],
   "source": [
    "# Plot the analytical and Euler trajectories for the SHO \n",
    "plt.plot( t_analytic, x_analytic , label='analytical')\n",
    "plt.plot( t_euler, x_euler , label='Euler')\n",
    "plt.xlabel( r'$t$ [s]' )\n",
    "plt.ylabel( r'$x(t)$ [m]' )\n",
    "plt.title( 'Analytical vs. Euler algorithm')\n",
    "plt.legend();"
   ]
  },
  {
   "cell_type": "markdown",
   "metadata": {
    "id": "-EJ5xqd-M3KD"
   },
   "source": [
    "Clearly there's problem with using Euler's algorithm for oscillatory problems! Try a few different time steps to see how that affects the Euler solution. The fundamental issue is that the Euler-algorithm has an *instability*--using a smaller time step won't fix this instability, merely hide it temporarily."
   ]
  },
  {
   "cell_type": "markdown",
   "metadata": {
    "id": "BHp5lNTMM3KD"
   },
   "source": [
    "## Euler-Cromer Algorithm\n",
    "\n",
    "For oscillitory problems, we'll use a more stable variant of Euler's algorithm known as the Euler-Cromer algorithm. This algorithm is very similar to Euler algorithm, except the finite difference updates to the velocity and position are: \n",
    "\n",
    "$$\\begin{align}\n",
    "v_x(t + \\Delta t) &= v_x(t) + a_x(t)/m \\Delta t \\\\\n",
    "x(t + \\Delta t) &= x(t) + v_x(t + \\Delta t) \\Delta t\n",
    "\\end{align}$$\n",
    "\n",
    "Notice that Euler-Cromer uses $v_x(t + \\Delta t)$  to compute $x(t + \\Delta t)$ wheras Euler uses $v_x(t )$; therefore we need to compute $x(t + \\Delta t)$ *after* $v_x(t + \\Delta t)$. Otherwise the method is identical to the Euler algorithm. "
   ]
  },
  {
   "cell_type": "markdown",
   "metadata": {
    "id": "JooX98lXM3KD"
   },
   "source": [
    "### **Problem 4**\n",
    "Implement the Euler-Cromer Method to find $x(t)$ and $v_x(t)$ for the SHO.\n",
    "* Plot analytical & Euler-Cromer for $\\omega_0 = 2.0~\\text{s}^{-1}$, $x_0=1.0~\\text{m}$, $dt = 0.05~\\text{s}$.\n",
    "* Plot the error in $x(t)$ from Euler-Cromer as compared to the analytical solution several values of $dt$."
   ]
  },
  {
   "cell_type": "markdown",
   "metadata": {
    "id": "TjATeRZhM3KE"
   },
   "source": [
    "# Damped Harmonic Oscillator\n",
    "\n",
    "We started by assuming our mass was on a frictionless surface. Now we'll make our model more realistic by introducing dissipation into our oscillator. We'll consider a velocity dependent damping force that acts in the direction opposite to the velocity with a magnitude that is proportional to the speed:\n",
    "\n",
    "$$\\textbf{Damping force:}\\quad \\vec{F}_{\\rm{damp}} = - b \\vec{v} $$\n",
    "\n",
    "where $b$ is the damping constant with units of $N s/m$.\n",
    "The net force is the sum of the restoring force and the damping force:\n",
    "\n",
    "$$ \\vec{F}_{\\rm{Net}} = \\vec{F}_{\\rm{res}} + \\vec{F}_{\\rm{damp}} $$\n",
    "\n",
    "Considering motion only along the x-axis, Newton's 2nd law reads:\n",
    "$$\\textbf{Newton's 2nd Law:}\\quad m a_x = -k x- b \\frac{dx}{dt} $$\n",
    "\n",
    "Notice that now the acceleration depends both on the position *and velocity* of the mass. Replacing the acceleration by a 2nd derivative gives use the differential equation:\n",
    "\n",
    "$$ \\frac{d^2 x}{dt^2} = - \\omega_0^2 x\\left(t\\right) - 2 \\beta \\frac{dx}{dt} $$\n",
    "\n",
    "where we've defined the *damping rate* $\\beta$ which has units of 1/s:\n",
    "\n",
    "$$\\textbf{Damping rate:}\\quad \\beta \\equiv \\frac{b}{2 m} $$\n",
    "\n",
    "Equivalently, we can write the diffential equation for Newton's 2nd Law in the form:\n",
    "\n",
    "$$\\textbf{Differential Eqn.:}\\quad \\frac{d^2 x}{dt^2} + 2 \\beta \\frac{dx}{dt} + \\omega_0^2 x\\left(t\\right) = 0$$\n",
    "\n",
    "This is another example (along with the SHO) of what is known as a *homogeneous differential equation*. While it is substantially harder to solve analytically than the differntial equation for the SHO, we can still make progress analytically.\n",
    "\n",
    "## Analytical solution for *underdamping*\n",
    "\n",
    "Here we'll consider the specific case where $\\beta < \\omega_0 $: this is known as *underdamping*. The particular solution to this differential equation when the mass is released from rest from position $x_0$ is:\n",
    "\n",
    "$$\\textbf{Underdamping (released from rest):} \\quad x\\left(t \\right) = x_0 e^{-\\beta t} \\cos\\left( \\omega_1 t\\right), \\qquad \\beta < \\omega_0$$\n",
    "\n",
    "where we've defined a new frequency $\\omega_1$:\n",
    "\n",
    "$$\\textbf{Damped frequency:}\\quad \\omega_1 \\equiv \\sqrt{\\omega_0^2 - \\beta^2} $$\n",
    "\n",
    "How do we know this is the solution to the differential equation? We're physicists--we've guessed the solution and now you can check for yourself by taking a few derivatives!"
   ]
  },
  {
   "cell_type": "markdown",
   "metadata": {
    "id": "bQRjK54AM3KF"
   },
   "source": [
    "### **Problem 5**\n",
    "Consider the anaylitical solution for the damped osciallator for $\\beta < \\omega_0$. Plot $x(t)$ vs. $t$ for four different values:\n",
    "$$\\beta \\in\\{ 0.01\\omega_0, 0.1\\omega_0, 0.5\\omega_0, 0.9\\omega_0\\}$$\n",
    " with a single value of $x_0$ and $\\omega_0$ of your choosing."
   ]
  },
  {
   "cell_type": "markdown",
   "metadata": {
    "id": "9bjQUGdKM3KH"
   },
   "source": [
    "### **Problem 6**\n",
    "Implement the Euler-Cromer method for the damped harmonic oscillator. \n",
    "* Plot $x(t)$ vs. $t$ for both the analytical and Euler-Cromer solution for $\\beta = 0.1 \\omega_0$\n",
    "* On a separate plot, plot the error in your numerical solution as compared to the analytical solution: \n",
    "$$ \\delta x(t) = x_{numerical}(t)-x_{analytical}(t) $$"
   ]
  },
  {
   "cell_type": "markdown",
   "metadata": {
    "id": "iTYccTJHYRG0"
   },
   "source": [
    "### Beyond Underdamping\n",
    "\n",
    "While you can make progress with analytical methods for $\\beta \\geq \\omega_0$, we're going to stick with numerical methods to study this regime."
   ]
  },
  {
   "cell_type": "markdown",
   "metadata": {
    "id": "gqzxAhMLM3KI"
   },
   "source": [
    "### **Problem 7**\n",
    "Use Euler-Cromer to find the $x(t)$ and $v(t)$ for $\\beta \\in \\{ 0.01\\omega_0,~0.1\\omega_0,~\\omega_0,~2\\omega_0,~4\\omega_0\\}$. For each $\\beta$ value:\n",
    "* Plot $x(t)$\n",
    "* Plot the total energy\n",
    "* Plot the phase space orbits\n",
    "\n",
    "Describe the behavior you see in each of your plots for each $\\beta$ value.\n",
    "* $\\beta = \\omega_0$ is known as *critical damping*--what is special about a critically damped system? How does this to compare to the *overdamped* regime: $\\beta > \\omega_0$?"
   ]
  },
  {
   "cell_type": "markdown",
   "metadata": {
    "id": "68oZ8lbTiCvt"
   },
   "source": [
    "### Overdamping\n",
    "\n",
    "In the overdamped regime $\\beta > \\omega_0$, you should find that $x(t)$ can approximately be described by a decaying exponential:\n",
    "\n",
    "$$ \\beta > \\omega_0: \\quad x(t) \\simeq x_0 e^{-t/\\tau} $$\n",
    "\n",
    "where $\\tau$ is the decay time (with units of seconds). Consider consider the time $t = \\tau$\n",
    "\n",
    "$$ x(\\tau) = x_0 e^{-1} \\Rightarrow \\frac{x(\\tau)}{x_0} = \\frac{1}{e}$$\n",
    "\n",
    "Therefore we can estimate $\\tau$ by finding the *$e$-folding time*, the time at which the displacment is $1/e \\simeq 0.37 $ of the initial displacement."
   ]
  },
  {
   "cell_type": "markdown",
   "metadata": {
    "id": "R2_uS9NJh8IP"
   },
   "source": [
    "### **Problem 8**\n",
    "* Use Euler-Cromer to compute $x(t)$ for the following $\\beta$ values in the overdamped regime: $\\beta \\in \\{ 1.1\\omega_0, 2.0\\omega_0,~\\omega_0,~4.0\\omega_0,~8.0\\omega_0\\}$. \n",
    "* For each $\\beta$ value esimate the decay time $\\tau$ by finding the $e$-folding time.\n",
    "* Plot $\\tau$ as a funtion of $\\beta$ for these values of $\\beta$."
   ]
  },
  {
   "cell_type": "markdown",
   "metadata": {
    "id": "-fd-MjegySL4"
   },
   "source": [
    "## **Data Analysis Extension**: Critical Damping & Overdamping\n",
    "\n",
    "The general analytical solution for critical damping has the form:\n",
    "\n",
    "$$\\textbf{Critical damping}: x(t) = Ae^{-\\beta t} + B t e^{-\\beta t}, \\qquad \\beta = \\omega_0 $$\n",
    "\n",
    "The general analytical solution for overdamping has the form:\n",
    "\n",
    "$$ \\textbf{Overdamping}: x(t) = Ae^{- t/\\tau_1} + B e^{-t/\\tau_2}, \\qquad \\beta > \\omega_0 $$\n",
    "\n",
    "where $\\tau_1$ and $\\tau_2$ are determined by $\\omega_0$ and $\\beta$:\n",
    "\n",
    "$$\\frac{1}{\\tau_1} \\equiv \\beta - \\sqrt{\\beta^2 - \\omega_0^2} \\qquad\n",
    "\\frac{1}{\\tau_2} \\equiv \\beta + \\sqrt{\\beta^2 - \\omega_0^2} $$"
   ]
  },
  {
   "cell_type": "markdown",
   "metadata": {
    "id": "G9QcBMNY0obG"
   },
   "source": [
    "\n",
    "### ***Data Analysis Challenge Problem 9***\n",
    "* Numerically compute $x(t)$ for $\\beta=\\omega_0$. Fit your data to determine the $A$ & $B$ parameters and confirm agreement with analytical soltution.\n",
    "* Numerically compute $x(t)$ for several values of $\\beta>\\omega_0$. Fit your data to determine the $A$, $B$, $\\tau_1$, and $\\tau_2$  parameters and confirm agreement with analytical soltution.\n",
    "\n",
    "*Hint*: You may want to use [sp.curvefit](https://docs.scipy.org/doc/scipy/reference/generated/scipy.optimize.curve_fit.html) or another curve fitting package.\n"
   ]
  },
  {
   "cell_type": "markdown",
   "metadata": {
    "id": "HJpitj0ZM3KJ"
   },
   "source": [
    "# **Physics Extension:** Driven Damped Harmonic Oscillator\n",
    "\n",
    "Now we're going to add a sinusoidal *driving* force to our damped harmonic oscillator:\n",
    "\n",
    "$$\\textbf{Driving force}: \\vec{F}_{\\textrm{drive}} = F_0 \\cos( \\omega_d t) \\hat{i}$$\n",
    "\n",
    "In other words, now something is periodically pushing and pulling on the mass with frequency $\\omega_d$ with a force of amplitude $F_0$. Notice the driving force is indepedent of the position and velocity of the mass. The net force on our oscillator is:\n",
    "\n",
    "$$\\vec{F}_{\\textrm{Net}} = \\vec{F}_{\\textrm{res}} + \\vec{F}_{\\textrm{damp}} + \\vec{F}_{\\textrm{drive}} $$\n",
    "\n",
    "Newton's 2nd law in differential equation form becomes:\n",
    "\n",
    "$$\\textbf{Newton's 2nd Law:}\\quad\\frac{d^2 x}{dt^2} = - \\omega_0^2 x\\left(t\\right) - 2 \\beta \\frac{dx}{dt} + f_0 \\cos\\left(\\omega t\\right) $$\n",
    "\n",
    "where we've defined the constant $ f_0 \\equiv F_0/m $. We can re-write out differential equation in a standard form:\n",
    "\n",
    "\n",
    "$$\\textbf{Diff. Eqn. for driven oscillator:} \\quad \\frac{d^2 x}{dt^2} + 2 \\beta \\frac{dx}{dt} + \\omega_0^2 x\\left(t\\right)  = f_0 \\cos\\left(\\omega t\\right) $$\n",
    "\n",
    "This is what is known as a *non-homogenous differential equation* because there is term that is independent of $x(t)$ and its derivatives."
   ]
  },
  {
   "cell_type": "markdown",
   "metadata": {
    "id": "RRMhQHdzM3KK"
   },
   "source": [
    "### ***Extension Problem 10***\n",
    "Implement the Euler-Cromer Method for the driven damped harmonic oscillator. \n",
    "* Compute the trajectory of the oscillator for \n",
    "  * $\\beta = 0.1 \\omega_0$\n",
    "  * $f_0 = x_0 \\omega_0^2 $ \n",
    "  * $\\omega_d =\\{0.1 \\omega_0, 0.5 \\omega_0, \\omega_0, 2.0 \\omega_0 \\}$ \n",
    "* Make three plots:\n",
    "  1. Position vs. time\n",
    "  2. Energy vs. time\n",
    "  3. Phase space orbits\n",
    "\n",
    "  Include all 4 values of $\\omega_d$ on each plot. \n",
    "* Describe the behavior you see for each $\\omega_d$.\n",
    "* The *resonant frequency* of a damped oscillator is\n",
    "$$\\omega_r = \\sqrt{\\omega_0^2 - 2\\beta^2} $$\n",
    "Illustrate and describe the behavior of the oscillator as $\\omega_d$ approaches $\\omega_r$."
   ]
  },
  {
   "cell_type": "markdown",
   "metadata": {
    "id": "BZgiHi-FM3KK"
   },
   "source": [
    "# **Physics Extension**: Anharmonic oscillators, non-linear dynamics & chaos! #\n",
    "\n",
    "The harmonic oscillators (whether damped, driven or not) often *approximatly* describes the dynamics of oscillatory motion of a real system when small displacements are made from the equilibrium position. \n",
    "\n",
    "For example, consider the simple pendulum, which is discussed in [OpenStax *University Physics* Chapter 15](https://openstax.org/books/university-physics-volume-1/pages/15-4-pendulums). Using Netwon's 2nd law for torques and angular acceleration, you find that the angle of the pendulum from vertical $\\theta(t)$ is described by the differential equation:\n",
    "\n",
    "$$\\textbf{Simple pendulum:}\\quad \\frac{d^{2} \\theta}{d t^{2}} = - \\omega_0^2 \\sin \\theta $$\n",
    "\n",
    "Where the frequency $\\omega_0$ is determined by the gravitational accleration and the length of the pendulum: $ \\omega_0 = \\sqrt{\\frac{ g}{L}}$. Now let's assume we relase the pendulum from rest at a small angle $\\theta_0 \\ll 1$. Using the Taylor series approximation for sine, we can write:\n",
    "\n",
    "$$\\sin \\theta \\simeq \\theta \\qquad \\theta \\ll 1$$\n",
    "\n",
    "Plugging this approximation back into the differntial equation, we have:\n",
    "\n",
    "$$\\textbf{Harmonic approximation}\\quad \\frac{d^{2} \\theta}{d t^{2}} \\simeq - \\omega_0^2 \\theta $$\n",
    "\n",
    "Notice that for small angles, the pendulum is approximately described as a simple harmonic oscillator! But what about for larger angles where this approximation fails?\n"
   ]
  },
  {
   "cell_type": "markdown",
   "metadata": {
    "id": "2dzj0A2hM3KK"
   },
   "source": [
    "### ***Extension Problem 11***\n",
    "Implement the Euler-Cromer algorithm for the simple pendulum. \n",
    "* Make three separte plots of $\\theta(t)$ for the simple pendulum with $\\theta_0 = \\{(0.01)\\pi, (0.1)\\pi, \\pi/4\\}$. \n",
    "* For each value of $\\theta_0$, aslo plot $\\theta(t)$ using the analytical expression under harmonic approximation for the corresponding $\\theta_0$ value."
   ]
  },
  {
   "cell_type": "markdown",
   "metadata": {
    "id": "ay0pRQe0ju5W"
   },
   "source": [
    "Now we'll consider the dynamics of the simple pendulum for larger angles were the harmonic oscillator fails."
   ]
  },
  {
   "cell_type": "markdown",
   "metadata": {
    "id": "pqOxd9QSM3KL"
   },
   "source": [
    "### ***Extension Problem 12***\n",
    "Compute $\\theta(t)$ for the simple pendulum with $\\theta_0 = \\{(0.1)\\pi, \\pi/4, \\pi/2, (0.9)\\pi\\}$.\n",
    "* Plot the ratio $\\theta(t)/\\theta_0$ for each $\\theta_0$ value on the same plot\n",
    "* What is happening to the period of oscillation as $\\theta_0 \\rightarrow \\pi$? Explain this physic[link text](https://)ally!\n",
    "    * **Challenge Problem:** Numerically determine the period of oscillation from your data for $\\theta(t)$. Plot the period as a function of $\\theta_0$. *Hint* If you've worked with Fourier transforms (e.g. in PHYS 212), try using [numpy.fft](https://numpy.org/doc/stable/reference/routines.fft.htmlhttps://numpy.org/doc/stable/reference/routines.fft.html)."
   ]
  },
  {
   "cell_type": "markdown",
   "metadata": {
    "id": "mNkRm-UKM3KL"
   },
   "source": [
    "## Driven, damped simple pendulum: Chaos!\n",
    "\n",
    "Now we're going to add a damping and driving force to our pendulum. The corresponding differential equation is now:\n",
    "\n",
    "$$ \\frac{d^2 \\theta}{dt^2} = -\\omega_0^2 \\sin \\theta - 2 \\beta \\frac{d \\theta}{dt} + f_0 \\cos(\\omega_d t) $$"
   ]
  },
  {
   "cell_type": "markdown",
   "metadata": {
    "id": "8ucZfV7uM3KL"
   },
   "source": [
    "### ***Extension Problem 13***\n",
    "* Implement the Euler-Cromer method for the driven, damped simple pendulum. \n",
    "* Compute the trajectories for $f_0 = \\{ 0.7~\\text{s}^{-1}, 1.1~\\text{s}^{-1}\\}$ with the other parameters fixed as follows:\n",
    "$\\quad\\theta_0 = 1.0,~\\text{rad} \\quad \\beta = 0.25,~\\text{s}^{-1}, \\quad \\omega_0 = 1.0,~\\text{s}^{-1},\\quad \\omega_d = 0.6,~\\text{s}^{-1}$\n",
    " * Plot $\\theta(t)$ and $d\\theta/dt$ vs. t for both values of driving frequency. Discuss the difference in the behavior you see--are they both periodic motion?\n",
    "* Plot the phase space trajectories for these two sets of conditions and describe the difference. Try a few more values of $f_0$ and discuss what you find!"
   ]
  },
  {
   "cell_type": "markdown",
   "metadata": {
    "id": "UAKfFO4aM3KM"
   },
   "source": [
    "### ***Extension Problem 12***\n",
    "For the same set of parameters as above, starting the pendulum from the following 2 sets of intial conditions:\n",
    "* Case a: $\\quad \\theta(t=0) = 0.0, \\quad d \\theta/dt |_{t=0} = 0.0$\n",
    "* Case b: $\\quad \\theta(t=0) = 0.0, \\quad d \\theta/dt |_{t=0} = 0.01~s^{-1}$\n",
    "\n",
    "Notice that in the 2nd case, the pendulum is started with a very small initial velocity. \n",
    "* Plot the trajectory for both intial conditions for both values of $f_0$ on separate plots.\n",
    "* Plot the absolute value of the difference in the angular positions as a function of time $|\\omega_a(t) - \\omega_b(t)|$ for both values of $f_0$ on a log-linear plot. Describe the difference you see. *Hint*: You should see **chaotic** behavior!"
   ]
  },
  {
   "cell_type": "markdown",
   "metadata": {
    "id": "UvzpvPr94kIa"
   },
   "source": [
    "## Algorithm Extensions\n",
    "Check out these extensions to get a better understanding of the performance of the Euler method for solving ODEs, and to experiment with some alternate ways of solving these same problems. "
   ]
  },
  {
   "cell_type": "markdown",
   "metadata": {
    "id": "6H2WDdgf2k4p"
   },
   "source": [
    "### ***Algorithm Extension Problem 14***\n",
    "\n",
    "**Quantifying error with no exact solution**\n",
    "\n",
    "Test for your convergence in the Euler and Euler-Cromer algorithm simulations of an oscillator. Repeat your simulation many different times with the same initial conditions, but by changing the step size $\\Delta t$. You can then compare a represntative quantity, say $x(t_f, \\Delta t)$, by taking the difference in that quantity between simulations with different $\\Delta t$. In fact, you probably want to \"normalize\" the quantity by compting\n",
    "\n",
    "$$\\Delta x_{err} = \\left| \\frac{x(t_f, \\Delta t_2) - x(t_f, \\Delta t_1)}{\\Delta t_2 - \\Delta t_1} \\right|$$\n",
    "\n",
    "You should see that $\\Delta x_{err}$ tends to zero as $\\bar{\\Delta t} = (\\Delta t_2 + \\Delta t_1)/2$ gets small, giving you confidence that small step sizes allows you simulation to converge to a solution that is at least consistent.\n",
    "\n",
    "Produce a plot of the difference in $\\Delta x_{err}$ versus $\\bar{\\Delta t}$ to demonstrate convergence in your simulations of the the SHO (or damped or driven SHO)"
   ]
  },
  {
   "cell_type": "markdown",
   "metadata": {
    "id": "1EG-9Nes3rHp"
   },
   "source": [
    "### ***Algorithm Extension Problem 15***\n",
    "**An improved ODE solve: Heun's Method**\n",
    "\n",
    "Solve one of the above oscillator problems (over your choice) by implementing [*Heun's Method*](https://en.wikipedia.org/wiki/Heun%27s_method). See Module 2 for brief description of the algorithm.\n",
    "\n",
    "* Compute $x(t)$ for serveral values of $dt$ for both Euler-Cromer and Heun's Method. Compare the scaling of the systemic error due to finite $dt$ in both methods and discuss."
   ]
  },
  {
   "cell_type": "markdown",
   "metadata": {
    "id": "lDg60fH03UJM"
   },
   "source": [
    "### ***Algorithm Extension Problem 16***\n",
    "**Using SciPy differential equation solvers**\n",
    "\n",
    "This powerful algorithmic machinery for solving ordinary differntial equations, or initial value problems (IPVs), is built into the SciPy package already. Use the [`scipy.integrate.solv_ipv` [doc]](https://docs.scipy.org/doc/scipy/reference/generated/scipy.integrate.solve_ivp.html#scipy.integrate.solve_ivp) function, solve an oscillation problem of your choice. You will see that this function contains an option to use several different differential equation solving algorithms. Look up a bit of information about one of those methods, and write a few sentences describing what you learned in a Markdown cell. "
   ]
  }
 ],
 "metadata": {
  "colab": {
   "collapsed_sections": [
    "JooX98lXM3KD",
    "9bjQUGdKM3KH"
   ],
   "name": "Module-3-Oscillations.ipynb",
   "provenance": []
  },
  "kernelspec": {
   "display_name": "Python 3",
   "language": "python",
   "name": "python3"
  },
  "language_info": {
   "codemirror_mode": {
    "name": "ipython",
    "version": 3
   },
   "file_extension": ".py",
   "mimetype": "text/x-python",
   "name": "python",
   "nbconvert_exporter": "python",
   "pygments_lexer": "ipython3",
   "version": "3.8.5"
  }
 },
 "nbformat": 4,
 "nbformat_minor": 4
}
